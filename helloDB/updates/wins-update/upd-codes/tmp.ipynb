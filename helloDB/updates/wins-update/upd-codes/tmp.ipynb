{
 "cells": [
  {
   "cell_type": "code",
   "execution_count": null,
   "metadata": {},
   "outputs": [],
   "source": [
    "def rates_us():\n",
    "    name = 'rates_us'\n",
    "    last_date = do.get_latest_date(name)\n",
    "    today_date = dt.datetime.now()\n",
    "    print('表{}的最近更新日期为{}'.format(name,last_date))\n",
    "    last_date = '2008-01-01'\n",
    "    err,df = w.edb(\"G0000886,G0000887,G0000891,G8455661,M0000185,G0000898\", \\\n",
    "        last_date, today_date,usedf=True)\n",
    "    if df.shape[1] == 1:\n",
    "        return [],name,[]\n",
    "    df.columns = ['美债1年','美债2年','美债10年','美债10-2','美元兑人民币','libor_3m']\n",
    "    df['date'] = df.index\n",
    "    df = df.loc[(df.date > last_date) & (df.date < today_date.date())].dropna()\n",
    "\n",
    "    columns_type=[Float(),Float(),Float(),Float(),Float(),Float(),\n",
    "                    DateTime()]\n",
    "    dtypelist = dict(zip(df.columns,columns_type))\n",
    "    # do.upload_data(df.iloc[:-1,:],name , dtypelist,'replace')\n",
    "    return df , name , dtypelist"
   ]
  },
  {
   "cell_type": "code",
   "execution_count": null,
   "metadata": {},
   "outputs": [],
   "source": [
    "import pandas as pd\n",
    "import numpy as np\n",
    "import seaborn as sns\n",
    "import matplotlib.pyplot as plt\n",
    "import datetime as dt\n",
    "import pymysql\n",
    "from sqlalchemy.types import String, Float, Integer,VARCHAR\n",
    "from sqlalchemy import DateTime\n",
    "from sqlalchemy import create_engine\n",
    "from sqlalchemy import exc\n",
    "import os\n",
    "import re\n",
    "import data_organize as do\n",
    "\n",
    "from WindPy import w\n"
   ]
  },
  {
   "cell_type": "code",
   "execution_count": null,
   "metadata": {},
   "outputs": [],
   "source": []
  }
 ],
 "metadata": {
  "interpreter": {
   "hash": "2e5c6628eef985e7fd2fa2aad22c988c5b8aa1d2648cf9c51c543a2a2637c546"
  },
  "kernelspec": {
   "display_name": "Python 3.6.6 64-bit",
   "language": "python",
   "name": "python3"
  },
  "language_info": {
   "name": "python",
   "version": "3.6.6"
  },
  "orig_nbformat": 4
 },
 "nbformat": 4,
 "nbformat_minor": 2
}
